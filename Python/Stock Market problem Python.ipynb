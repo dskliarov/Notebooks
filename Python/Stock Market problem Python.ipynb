{
 "cells": [
  {
   "cell_type": "code",
   "execution_count": 3,
   "metadata": {},
   "outputs": [],
   "source": [
    "def getBestMarketValues(stocks) :\n",
    "    \n",
    "    size = len(stocks) \n",
    "    min = 0\n",
    "    maxDiff = 0\n",
    "    buy = sell = 0\n",
    "    \n",
    "    for i in range(1, size) :\n",
    "        if (stocks[i] < stocks[min]):\n",
    "            min = i\n",
    "        diff = stocks[i] - stocks[min]\n",
    "        \n",
    "        if (diff > maxDiff) :\n",
    "            buy = min\n",
    "            sell = i\n",
    "            maxDiff = diff\n",
    "            \n",
    "    return {\"buy\" : buy, \"sell\" : sell, \"profit\" : maxDiff}"
   ]
  },
  {
   "cell_type": "code",
   "execution_count": 4,
   "metadata": {},
   "outputs": [
    {
     "name": "stdout",
     "output_type": "stream",
     "text": [
      "Prices are  [3, 6, 10, 2, 66, 43, 1, 23]\n",
      "Best day to buy is 3 \r\n",
      "Best day to sell is 4 \r\n",
      "Best profit is 64 \r\n"
     ]
    }
   ],
   "source": [
    "a = [3, 6, 10, 2, 66, 43, 1, 23]\n",
    "print (\"Prices are \", a)\n",
    "rslt = getBestMarketValues(a)\n",
    "print (\"Best day to buy is\", rslt[\"buy\"], \"\\r\")\n",
    "print (\"Best day to sell is\", rslt[\"sell\"], \"\\r\")\n",
    "print (\"Best profit is\", rslt[\"profit\"], \"\\r\")"
   ]
  },
  {
   "cell_type": "code",
   "execution_count": null,
   "metadata": {},
   "outputs": [],
   "source": []
  },
  {
   "cell_type": "code",
   "execution_count": null,
   "metadata": {},
   "outputs": [],
   "source": []
  }
 ],
 "metadata": {
  "kernelspec": {
   "display_name": "Python 3",
   "language": "python",
   "name": "python3"
  },
  "language_info": {
   "codemirror_mode": {
    "name": "ipython",
    "version": 3
   },
   "file_extension": ".py",
   "mimetype": "text/x-python",
   "name": "python",
   "nbconvert_exporter": "python",
   "pygments_lexer": "ipython3",
   "version": "3.6.4"
  }
 },
 "nbformat": 4,
 "nbformat_minor": 2
}
