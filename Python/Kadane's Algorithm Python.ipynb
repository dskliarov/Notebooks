{
 "cells": [
  {
   "cell_type": "code",
   "execution_count": 1,
   "metadata": {},
   "outputs": [],
   "source": [
    "import sys\n",
    "\n",
    "def maxSubArraySum(a) :\n",
    "    \n",
    "    size = len(a)\n",
    "    max_so_far = -9223372036854775808\n",
    "    max_ending_here = 0\n",
    "    print (size)\n",
    "    for i in range(0, size) :\n",
    "        max_ending_here = max_ending_here + a[i]\n",
    "        if (max_so_far < max_ending_here):\n",
    "            max_so_far = max_ending_here\n",
    "            \n",
    "        if (max_ending_here < 0):\n",
    "            max_ending_here = 0\n",
    "    return max_so_far"
   ]
  },
  {
   "cell_type": "code",
   "execution_count": 2,
   "metadata": {},
   "outputs": [
    {
     "name": "stdout",
     "output_type": "stream",
     "text": [
      "Original array is  [3, 5, -23, 4, 5, 6, 96, -12, 34, -150, 94] \r\n",
      "11\n",
      "Max contigious sum is  133\n"
     ]
    }
   ],
   "source": [
    "a = [3, 5, -23, 4, 5, 6, 96, -12, 34, -150, 94]\n",
    "print (\"Original array is \", a, \"\\r\")\n",
    "print (\"Max contigious sum is \", maxSubArraySum(a))"
   ]
  },
  {
   "cell_type": "code",
   "execution_count": null,
   "metadata": {},
   "outputs": [],
   "source": []
  }
 ],
 "metadata": {
  "kernelspec": {
   "display_name": "Python 3",
   "language": "python",
   "name": "python3"
  },
  "language_info": {
   "codemirror_mode": {
    "name": "ipython",
    "version": 3
   },
   "file_extension": ".py",
   "mimetype": "text/x-python",
   "name": "python",
   "nbconvert_exporter": "python",
   "pygments_lexer": "ipython3",
   "version": "3.6.4"
  }
 },
 "nbformat": 4,
 "nbformat_minor": 2
}
