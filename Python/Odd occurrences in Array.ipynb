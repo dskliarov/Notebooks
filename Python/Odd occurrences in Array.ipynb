{
 "cells": [
  {
   "cell_type": "code",
   "execution_count": 1,
   "metadata": {},
   "outputs": [
    {
     "data": {
      "text/plain": [
       "3"
      ]
     },
     "execution_count": 1,
     "metadata": {},
     "output_type": "execute_result"
    }
   ],
   "source": [
    "from typing import List\n",
    "\n",
    "def odd_occurrences(a: List[int]):\n",
    "    d = {}\n",
    "    for v in a:\n",
    "        if (d.pop(v, 0) == 0):\n",
    "            d[v]=1\n",
    "    rslt = list(d.keys())\n",
    "  \n",
    "    return rslt[0]\n",
    "    \n",
    "a = [1, 2, 3, 2, 3, 1, 3]\n",
    "odd_occurrences(a)"
   ]
  }
 ],
 "metadata": {
  "kernelspec": {
   "display_name": "Python 3",
   "language": "python",
   "name": "python3"
  },
  "language_info": {
   "codemirror_mode": {
    "name": "ipython",
    "version": 3
   },
   "file_extension": ".py",
   "mimetype": "text/x-python",
   "name": "python",
   "nbconvert_exporter": "python",
   "pygments_lexer": "ipython3",
   "version": "3.6.4"
  }
 },
 "nbformat": 4,
 "nbformat_minor": 2
}
