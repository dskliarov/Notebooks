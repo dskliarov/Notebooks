{
 "cells": [
  {
   "cell_type": "code",
   "execution_count": null,
   "metadata": {},
   "outputs": [],
   "source": [
    "A non-empty array A consisting of N integers is given. The first covering prefix of array A is the smallest integer P such that 0≤P<N and such that every value that occurs in array A also occurs in sequence A[0], A[1], ..., A[P].\n",
    "\n",
    "For example, the first covering prefix of the following 5−element array A:\n",
    "\n",
    "  A[0] = 2\n",
    "  A[1] = 2\n",
    "  A[2] = 1\n",
    "  A[3] = 0\n",
    "  A[4] = 1\n",
    "is 3, because sequence [ A[0], A[1], A[2], A[3] ] equal to [2, 2, 1, 0], contains all values that occur in array A.\n",
    "\n",
    "Write a function\n",
    "\n",
    "def solution(A)\n",
    "\n",
    "that, given a non-empty array A consisting of N integers, returns the first covering prefix of A.\n",
    "\n",
    "For example, given array A such that\n",
    "\n",
    "  A[0] = 2\n",
    "  A[1] = 2\n",
    "  A[2] = 1\n",
    "  A[3] = 0\n",
    "  A[4] = 1\n",
    "the function should return 3, as explained above."
   ]
  },
  {
   "cell_type": "code",
   "execution_count": null,
   "metadata": {},
   "outputs": [],
   "source": [
    "def solution(A):\n",
    "    # write your code in Python 3.6\n",
    "    l = len(A)\n",
    "    B = [0]*l\n",
    "    for i in range(l):\n",
    "        v = A[i]\n",
    "        if B[v] == 0:\n",
    "            B[v] = i + 1\n",
    "    R = 0\n",
    "    l = len(B)\n",
    "    for i in range(l):\n",
    "        if B[i] > R:\n",
    "            R = B[i]\n",
    "    return R - 1\n",
    "    pass\n"
   ]
  }
 ],
 "metadata": {
  "kernelspec": {
   "display_name": "Python 3",
   "language": "python",
   "name": "python3"
  },
  "language_info": {
   "codemirror_mode": {
    "name": "ipython",
    "version": 3
   },
   "file_extension": ".py",
   "mimetype": "text/x-python",
   "name": "python",
   "nbconvert_exporter": "python",
   "pygments_lexer": "ipython3",
   "version": "3.6.4"
  }
 },
 "nbformat": 4,
 "nbformat_minor": 2
}
