{
 "cells": [
  {
   "cell_type": "code",
   "execution_count": 5,
   "metadata": {},
   "outputs": [
    {
     "name": "stdout",
     "output_type": "stream",
     "text": [
      "[1, 2, 3, 4, 10, 6, 7]\n"
     ]
    },
    {
     "data": {
      "text/plain": [
       "5"
      ]
     },
     "execution_count": 5,
     "metadata": {},
     "output_type": "execute_result"
    }
   ],
   "source": [
    "from typing import List\n",
    "\n",
    "def min_number_not_in_list(a: List[int]):\n",
    "    l = len(a)\n",
    "    if (l == 0):\n",
    "        return 0\n",
    "    for i in range(l):\n",
    "        if (a[i] < l):\n",
    "            v = a[i]\n",
    "            a[v - 1], a[i] = a[i], a[v - 1]\n",
    "    print(a)\n",
    "    for i in range(l):\n",
    "        if (a[i] >= l):\n",
    "            return i + 1\n",
    "    return 0\n",
    "\n",
    "a = [3, 4, 6, 7, 10, 1, 2]\n",
    "min_number_not_in_list(a)\n",
    "        "
   ]
  },
  {
   "cell_type": "code",
   "execution_count": null,
   "metadata": {},
   "outputs": [],
   "source": []
  }
 ],
 "metadata": {
  "kernelspec": {
   "display_name": "Python 3",
   "language": "python",
   "name": "python3"
  },
  "language_info": {
   "codemirror_mode": {
    "name": "ipython",
    "version": 3
   },
   "file_extension": ".py",
   "mimetype": "text/x-python",
   "name": "python",
   "nbconvert_exporter": "python",
   "pygments_lexer": "ipython3",
   "version": "3.6.4"
  }
 },
 "nbformat": 4,
 "nbformat_minor": 2
}
