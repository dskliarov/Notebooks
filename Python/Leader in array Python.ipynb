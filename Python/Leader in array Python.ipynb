{
 "cells": [
  {
   "cell_type": "code",
   "execution_count": 7,
   "metadata": {},
   "outputs": [
    {
     "data": {
      "text/plain": [
       "1"
      ]
     },
     "execution_count": 7,
     "metadata": {},
     "output_type": "execute_result"
    }
   ],
   "source": [
    "def goldenLeader(A):\n",
    "    n = len(A)\n",
    "    size = 0\n",
    "    for k in range(n):\n",
    "        if (size == 0):\n",
    "            size += 1\n",
    "            value = A[k]\n",
    "        else:\n",
    "            if (value != A[k]):\n",
    "                size -= 1\n",
    "            else:\n",
    "                size += 1\n",
    "    candidate = -1\n",
    "    if (size > 0):\n",
    "        candidate = value\n",
    "    leader = -1\n",
    "    count = 0\n",
    "    for l in range(n):\n",
    "        if (A[l] == candidate):\n",
    "            count += 1\n",
    "    if (count > n // 2):\n",
    "        leader = candidate\n",
    "    return leader\n",
    "\n",
    "a = [4, 5, 5, 5, 5, 5, 3, 2]\n",
    "goldenLeader(a)\n",
    "\n",
    "a = [1, 3, 1, 4, 1, 5, 1, 6, 1]\n",
    "goldenLeader(a)"
   ]
  },
  {
   "cell_type": "code",
   "execution_count": null,
   "metadata": {},
   "outputs": [],
   "source": []
  }
 ],
 "metadata": {
  "kernelspec": {
   "display_name": "Python 3",
   "language": "python",
   "name": "python3"
  },
  "language_info": {
   "codemirror_mode": {
    "name": "ipython",
    "version": 3
   },
   "file_extension": ".py",
   "mimetype": "text/x-python",
   "name": "python",
   "nbconvert_exporter": "python",
   "pygments_lexer": "ipython3",
   "version": "3.6.4"
  }
 },
 "nbformat": 4,
 "nbformat_minor": 2
}
