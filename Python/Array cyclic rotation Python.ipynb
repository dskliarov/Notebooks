{
 "cells": [
  {
   "cell_type": "code",
   "execution_count": 23,
   "metadata": {},
   "outputs": [
    {
     "name": "stdout",
     "output_type": "stream",
     "text": [
      "2 5 6 7 9 2 4 11 23 \n",
      "\n",
      "4 11 23 2 5 6 7 9 2 "
     ]
    }
   ],
   "source": [
    "from typing import List\n",
    "import queue\n",
    "\n",
    "def cyclic_rotation(a: List[int], k: int):\n",
    "    l = len(a)\n",
    "    \n",
    "    if (k < 1) or (l < 0):\n",
    "        return a\n",
    "    \n",
    "    if (l < k):\n",
    "        k = l % k\n",
    "        \n",
    "    q = queue.Queue()\n",
    "    \n",
    "    for i in a:\n",
    "        print(i, end=' ')\n",
    "        \n",
    "    for i in range(k):\n",
    "        q.put(a[i])\n",
    "    \n",
    "    for i in range(l):\n",
    "        \n",
    "        ix = i + k\n",
    "        \n",
    "        if ((l -1) < ix):\n",
    "            ix = ix - l\n",
    "        \n",
    "        q.put(a[ix])\n",
    "        a[ix] = q.get()\n",
    "        \n",
    "    print('\\n')\n",
    "    \n",
    "    for i in a:\n",
    "        print(i, end=' ')\n",
    "\n",
    "a = [2, 5, 6, 7, 9, 2, 4, 11, 23]\n",
    "\n",
    "cyclic_rotation(a, 3)"
   ]
  },
  {
   "cell_type": "code",
   "execution_count": null,
   "metadata": {},
   "outputs": [],
   "source": []
  }
 ],
 "metadata": {
  "kernelspec": {
   "display_name": "Python 3",
   "language": "python",
   "name": "python3"
  },
  "language_info": {
   "codemirror_mode": {
    "name": "ipython",
    "version": 3
   },
   "file_extension": ".py",
   "mimetype": "text/x-python",
   "name": "python",
   "nbconvert_exporter": "python",
   "pygments_lexer": "ipython3",
   "version": "3.6.4"
  }
 },
 "nbformat": 4,
 "nbformat_minor": 2
}
