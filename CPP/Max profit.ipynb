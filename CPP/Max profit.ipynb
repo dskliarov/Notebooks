{
 "cells": [
  {
   "cell_type": "code",
   "execution_count": 1,
   "metadata": {},
   "outputs": [
    {
     "name": "stderr",
     "output_type": "stream",
     "text": [
      "Using raw input\n"
     ]
    }
   ],
   "source": [
    ".rawInput"
   ]
  },
  {
   "cell_type": "code",
   "execution_count": 2,
   "metadata": {},
   "outputs": [],
   "source": [
    "#import <vector>\n",
    "\n",
    "namespace amazon_interview {\n",
    "    \n",
    "    using namespace std;\n",
    "    \n",
    "    int max_profit(const vector<int> &prices) {\n",
    "        if(prices.empty() || prices.size() == 1) {\n",
    "            return 0;\n",
    "        }\n",
    "    \n",
    "        int maxp = 0;\n",
    "    \n",
    "        int minp = prices[0];\n",
    "    \n",
    "        for(int i = 0; i < prices.size(); i++) {\n",
    "            minp = std::min(minp, prices[i]);\n",
    "            maxp = std::max(maxp, prices[i] - minp);\n",
    "        }\n",
    "        return maxp;\n",
    "    }\n",
    "}"
   ]
  },
  {
   "cell_type": "code",
   "execution_count": 3,
   "metadata": {},
   "outputs": [],
   "source": [
    "static const int arr[] = {34343, 656456456, 423423423, 2323232, 56565656};\n",
    "std::vector<int> v (arr, arr + sizeof(arr)/sizeof(arr[0]));"
   ]
  },
  {
   "cell_type": "code",
   "execution_count": 4,
   "metadata": {},
   "outputs": [
    {
     "name": "stderr",
     "output_type": "stream",
     "text": [
      "Not using raw input\n"
     ]
    }
   ],
   "source": [
    ".rawInput"
   ]
  },
  {
   "cell_type": "code",
   "execution_count": 5,
   "metadata": {},
   "outputs": [
    {
     "name": "stdout",
     "output_type": "stream",
     "text": [
      "Prises:\n",
      "34343, 656456456, 423423423, 2323232, 56565656, \n",
      "Max sale is 656422113\n"
     ]
    }
   ],
   "source": [
    "std::cout << \"Prises:\" << \"\\n\";\n",
    "\n",
    "for(int i : v)\n",
    "{\n",
    "    std::cout << i << \", \";\n",
    "}\n",
    "\n",
    "std::cout << \"\\n\";\n",
    "\n",
    "int maxp = amazon_interview::max_profit(v);\n",
    "\n",
    "std::cout << \"Max sale is \" << maxp << \"\\n\";"
   ]
  }
 ],
 "metadata": {
  "kernelspec": {
   "display_name": "C++17",
   "language": "C++17",
   "name": "xeus-cling-cpp17"
  },
  "language_info": {
   "codemirror_mode": "text/x-c++src",
   "file_extension": ".cpp",
   "mimetype": "text/x-c++src",
   "name": "c++",
   "version": "17"
  }
 },
 "nbformat": 4,
 "nbformat_minor": 2
}
