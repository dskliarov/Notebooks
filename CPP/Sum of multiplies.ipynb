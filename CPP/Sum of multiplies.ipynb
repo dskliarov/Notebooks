{
 "cells": [
  {
   "cell_type": "code",
   "execution_count": 1,
   "metadata": {},
   "outputs": [
    {
     "name": "stderr",
     "output_type": "stream",
     "text": [
      "Using raw input\n"
     ]
    }
   ],
   "source": [
    ".rawInput"
   ]
  },
  {
   "cell_type": "code",
   "execution_count": 2,
   "metadata": {},
   "outputs": [],
   "source": [
    "#import <vector>\n",
    "\n",
    "namespace algorithms {\n",
    "    using namespace std;\n",
    "    \n",
    "    int sum_of_numbers_by_multiplier(int multiplier, int max_number) {\n",
    "        int cntr = max_number / multiplier;        \n",
    "        int sum = 0;\n",
    "        for(int i = 1; i <= cntr; i++) {\n",
    "            sum += i * multiplier;\n",
    "        }\n",
    "        return sum;\n",
    "    }\n",
    "    \n",
    "    int sum_of_numbers(vector<int> & v, int max_number) {\n",
    "        int sum = 0;\n",
    "        for(int i : v) {\n",
    "            sum += sum_of_numbers_by_multiplier(i, max_number);\n",
    "        }\n",
    "        return sum;\n",
    "    }\n",
    "}"
   ]
  },
  {
   "cell_type": "code",
   "execution_count": 3,
   "metadata": {},
   "outputs": [
    {
     "name": "stderr",
     "output_type": "stream",
     "text": [
      "Not using raw input\n"
     ]
    }
   ],
   "source": [
    ".rawInput"
   ]
  },
  {
   "cell_type": "code",
   "execution_count": 4,
   "metadata": {},
   "outputs": [
    {
     "name": "stdout",
     "output_type": "stream",
     "text": [
      "Sum of all multiples of in numbers below 1000 is 266333\n"
     ]
    }
   ],
   "source": [
    "int arr[] = {3, 5};\n",
    "std::vector<int> multipliers (arr, arr + sizeof(arr)/sizeof(arr[0]));\n",
    "int max_number = 999;\n",
    "int sum = algorithms::sum_of_numbers(multipliers, max_number);\n",
    "std::cout << \"Sum of all multiples of in numbers below \" << (max_number + 1) << \" is \" << sum << \"\\n\";"
   ]
  },
  {
   "cell_type": "code",
   "execution_count": null,
   "metadata": {},
   "outputs": [],
   "source": []
  }
 ],
 "metadata": {
  "kernelspec": {
   "display_name": "C++17",
   "language": "C++17",
   "name": "xeus-cling-cpp17"
  },
  "language_info": {
   "codemirror_mode": "text/x-c++src",
   "file_extension": ".cpp",
   "mimetype": "text/x-c++src",
   "name": "c++",
   "version": "17"
  }
 },
 "nbformat": 4,
 "nbformat_minor": 2
}
