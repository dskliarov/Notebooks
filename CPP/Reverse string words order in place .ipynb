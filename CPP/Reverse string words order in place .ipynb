{
 "cells": [
  {
   "cell_type": "code",
   "execution_count": 1,
   "metadata": {},
   "outputs": [
    {
     "name": "stderr",
     "output_type": "stream",
     "text": [
      "Using raw input\n"
     ]
    }
   ],
   "source": [
    ".rawInput"
   ]
  },
  {
   "cell_type": "code",
   "execution_count": 2,
   "metadata": {},
   "outputs": [],
   "source": [
    "#import <vector>\n",
    "#import <sstream>\n",
    "#import <string>\n",
    "\n",
    "namespace amazon_interview {\n",
    "    \n",
    "    using namespace std;\n",
    "    \n",
    "    vector<string> to_vector(string i) {\n",
    "        istringstream iss(i);\n",
    "        \n",
    "        vector<string> result((istream_iterator<string>(iss)), (istream_iterator<string>()));\n",
    "        return result;\n",
    "    }\n",
    "    \n",
    "    void swap(string & from, string & to) {\n",
    "        string tmp = from;\n",
    "        from = to;\n",
    "        to = tmp;\n",
    "    }\n",
    "    \n",
    "    void reverse(vector<string> & i) {\n",
    "        int from = 0;\n",
    "        int to = i.size() - 1;\n",
    "        \n",
    "        while (from < to) {\n",
    "            swap(i[from], i[to]);\n",
    "            from ++;\n",
    "            to --;\n",
    "        }\n",
    "        \n",
    "    }\n",
    "    \n",
    "    void print_vector(vector<string> i) {\n",
    "        for(string word : i) {\n",
    "            cout << word << \" \";\n",
    "        }\n",
    "    }\n",
    "}"
   ]
  },
  {
   "cell_type": "code",
   "execution_count": 3,
   "metadata": {},
   "outputs": [
    {
     "name": "stderr",
     "output_type": "stream",
     "text": [
      "Not using raw input\n"
     ]
    }
   ],
   "source": [
    ".rawInput"
   ]
  },
  {
   "cell_type": "code",
   "execution_count": 4,
   "metadata": {},
   "outputs": [
    {
     "name": "stdout",
     "output_type": "stream",
     "text": [
      "Original string\n",
      "Mary loves Gary since high school \n",
      "\n",
      "Reversed string\n",
      "school high since Gary loves Mary "
     ]
    }
   ],
   "source": [
    "using namespace std;\n",
    "\n",
    "string s = \"Mary loves Gary since high school\";\n",
    "\n",
    "vector<string> v = amazon_interview::to_vector(s);\n",
    "cout << \"Original string\" << \"\\n\";\n",
    "amazon_interview::print_vector(v);\n",
    "cout << \"\\n\\n\" << \"Reversed string\" << \"\\n\";\n",
    "amazon_interview::reverse(v);\n",
    "amazon_interview::print_vector(v);"
   ]
  }
 ],
 "metadata": {
  "kernelspec": {
   "display_name": "C++11",
   "language": "C++11",
   "name": "xeus-cling-cpp11"
  },
  "language_info": {
   "codemirror_mode": "text/x-c++src",
   "file_extension": ".cpp",
   "mimetype": "text/x-c++src",
   "name": "c++",
   "version": "11"
  }
 },
 "nbformat": 4,
 "nbformat_minor": 2
}
