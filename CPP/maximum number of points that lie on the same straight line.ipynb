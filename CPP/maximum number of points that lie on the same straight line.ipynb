{
 "cells": [
  {
   "cell_type": "raw",
   "metadata": {},
   "source": [
    "/*\n",
    "Given n points on a 2D plane, find the maximum number of points that lie on the same straight line.\n",
    "\n",
    "Example 1:\n",
    "\n",
    "Input: [[1,1],[2,2],[3,3]]\n",
    "Output: 3\n",
    "Explanation:\n",
    "^\n",
    "|\n",
    "|        o\n",
    "|     o\n",
    "|  o  \n",
    "+------------->\n",
    "0  1  2  3  4\n",
    "Example 2:\n",
    "\n",
    "Input: [[1,1],[3,2],[5,3],[4,1],[2,3],[1,4]]\n",
    "Output: 4\n",
    "Explanation:\n",
    "^\n",
    "|\n",
    "|  o\n",
    "|     o        o\n",
    "|        o\n",
    "|  o        o\n",
    "+------------------->\n",
    "0  1  2  3  4  5  6\n",
    "*/"
   ]
  },
  {
   "cell_type": "code",
   "execution_count": 1,
   "metadata": {},
   "outputs": [
    {
     "name": "stderr",
     "output_type": "stream",
     "text": [
      "Using raw input\n"
     ]
    }
   ],
   "source": [
    ".rawInput"
   ]
  },
  {
   "cell_type": "code",
   "execution_count": 2,
   "metadata": {},
   "outputs": [],
   "source": [
    "#import <vector>\n",
    "#import <multiset>\n",
    "using namespace std;\n",
    "\n",
    "struct Point {\n",
    "    int x;\n",
    "    int y;\n",
    "    Point() : x(0), y(0) {}\n",
    "    Point(int a, int b) : x(a), y(b) {}\n",
    "};\n",
    "\n",
    "class Solution {\n",
    "public:\n",
    "    int maxPoints(vector<Point>& points) {\n",
    "        int max_cntr = 0;\n",
    "        for(auto p = points.begin(); p != points.end(); p++) {\n",
    "            std::cout << \"Point 1 x is \" << p->x << \"; y is \" << p->y << \"\\n\";\n",
    "            double tn = 0;\n",
    "            int cur_cntr = 0;\n",
    "            unordered<double, int> cur_tn;\n",
    "            for(auto p1 = (p + 1); p1 != points.end(); p1++) {\n",
    "                std::cout << \"Point 2 x is \" << p1->x << \"; y is \" << p1->y << \"!!!\\n\";\n",
    "                \n",
    "                if(p1->x == p->x) {\n",
    "                    cur_tn = 99;\n",
    "                } else if(p1->x > p->x) {\n",
    "                    cur_tn = (p1->y - p->y)/(double)(p1->x - p->x);\n",
    "                } else {\n",
    "                    cur_tn = (p->y - p1->y)/(double)(p->x - p1->x);\n",
    "                }\n",
    "                std::cout << \"tn is \" << tn << \"; cur_tn is \" << cur_tn << \"\\n\";\n",
    "                if(tn == 0 || tn == cur_tn) {\n",
    "                    cur_cntr ++;\n",
    "                    tn = cur_tn;\n",
    "                }\n",
    "                std::cout << \"cntr is \" << cur_cntr << \"\\n\";\n",
    "            }\n",
    "            tn = cur_cntr = 0;\n",
    "            std::cout << \"------------------------------\" << \"\\n\";\n",
    "            if (max_cntr < cur_cntr) {\n",
    "                max_cntr = cur_cntr;\n",
    "            }\n",
    "        }\n",
    "        return max_cntr;\n",
    "    } \n",
    "};"
   ]
  },
  {
   "cell_type": "code",
   "execution_count": 3,
   "metadata": {},
   "outputs": [
    {
     "name": "stderr",
     "output_type": "stream",
     "text": [
      "Not using raw input\n"
     ]
    }
   ],
   "source": [
    ".rawInput"
   ]
  },
  {
   "cell_type": "code",
   "execution_count": 4,
   "metadata": {},
   "outputs": [
    {
     "name": "stdout",
     "output_type": "stream",
     "text": [
      "Point 1 x is 1; y is 1\n",
      "Point 2 x is 3; y is 2!!!\n",
      "tn is 0; cur_tn is 0.5\n",
      "cntr is 1\n",
      "Point 2 x is 5; y is 3!!!\n",
      "tn is 0.5; cur_tn is 0.5\n",
      "cntr is 2\n",
      "Point 2 x is 4; y is 1!!!\n",
      "tn is 0.5; cur_tn is 0\n",
      "cntr is 2\n",
      "Point 2 x is 2; y is 3!!!\n",
      "tn is 0.5; cur_tn is 2\n",
      "cntr is 2\n",
      "Point 2 x is 1; y is 4!!!\n",
      "tn is 0.5; cur_tn is 99\n",
      "cntr is 2\n",
      "------------------------------\n",
      "Point 1 x is 3; y is 2\n",
      "Point 2 x is 5; y is 3!!!\n",
      "tn is 0; cur_tn is 0.5\n",
      "cntr is 1\n",
      "Point 2 x is 4; y is 1!!!\n",
      "tn is 0.5; cur_tn is -1\n",
      "cntr is 1\n",
      "Point 2 x is 2; y is 3!!!\n",
      "tn is 0.5; cur_tn is -1\n",
      "cntr is 1\n",
      "Point 2 x is 1; y is 4!!!\n",
      "tn is 0.5; cur_tn is -1\n",
      "cntr is 1\n",
      "------------------------------\n",
      "Point 1 x is 5; y is 3\n",
      "Point 2 x is 4; y is 1!!!\n",
      "tn is 0; cur_tn is 2\n",
      "cntr is 1\n",
      "Point 2 x is 2; y is 3!!!\n",
      "tn is 2; cur_tn is 0\n",
      "cntr is 1\n",
      "Point 2 x is 1; y is 4!!!\n",
      "tn is 2; cur_tn is -0.25\n",
      "cntr is 1\n",
      "------------------------------\n",
      "Point 1 x is 4; y is 1\n",
      "Point 2 x is 2; y is 3!!!\n",
      "tn is 0; cur_tn is -1\n",
      "cntr is 1\n",
      "Point 2 x is 1; y is 4!!!\n",
      "tn is -1; cur_tn is -1\n",
      "cntr is 2\n",
      "------------------------------\n",
      "Point 1 x is 2; y is 3\n",
      "Point 2 x is 1; y is 4!!!\n",
      "tn is 0; cur_tn is -1\n",
      "cntr is 1\n",
      "------------------------------\n",
      "Point 1 x is 1; y is 4\n",
      "------------------------------\n",
      "Max points on the same line is 0\n"
     ]
    }
   ],
   "source": [
    "Point arr[] = {Point(1, 1), Point(3, 2), Point(5, 3), Point(4, 1), Point(2, 3), Point(1, 4)};\n",
    "std::vector<Point> pointers (arr, arr + sizeof(arr)/sizeof(arr[0]));\n",
    "auto v = new Solution();\n",
    "auto rslt = v->maxPoints(pointers);\n",
    "std::cout << \"Max points on the same line is \" << rslt << \"\\n\";"
   ]
  }
 ],
 "metadata": {
  "celltoolbar": "Raw Cell Format",
  "kernelspec": {
   "display_name": "C++17",
   "language": "C++17",
   "name": "xeus-cling-cpp17"
  },
  "language_info": {
   "codemirror_mode": "text/x-c++src",
   "file_extension": ".cpp",
   "mimetype": "text/x-c++src",
   "name": "c++",
   "version": "17"
  }
 },
 "nbformat": 4,
 "nbformat_minor": 2
}
