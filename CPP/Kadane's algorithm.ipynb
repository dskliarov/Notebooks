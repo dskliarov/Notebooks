{
 "cells": [
  {
   "cell_type": "code",
   "execution_count": 1,
   "metadata": {},
   "outputs": [
    {
     "name": "stderr",
     "output_type": "stream",
     "text": [
      "Using raw input\n"
     ]
    }
   ],
   "source": [
    ".rawInput"
   ]
  },
  {
   "cell_type": "code",
   "execution_count": 2,
   "metadata": {},
   "outputs": [],
   "source": [
    "#import <vector>\n",
    "\n",
    "namespace amazon_interview {\n",
    "    \n",
    "    using namespace std;\n",
    "    \n",
    "    int max_subarray(vector<int> & data) {\n",
    "        int max_ending_here = data[0];\n",
    "        int max_so_far = data[0];\n",
    "        for (int i = 1; i < data.size(); i++) {\n",
    "            max_ending_here = std::max(data[i], max_ending_here + data[i]);\n",
    "            \n",
    "            max_ending_here = std::max(0, max_ending_here);\n",
    "            \n",
    "            max_so_far = std::max(max_ending_here, max_so_far);\n",
    "            \n",
    "        }\n",
    "        return max_so_far;\n",
    "    }\n",
    "}"
   ]
  },
  {
   "cell_type": "code",
   "execution_count": 3,
   "metadata": {},
   "outputs": [],
   "source": [
    "static const int arr[] = {3, 5, -23, 4, 5, 6, 96, -12, 34, -150, 94, -56, 134};\n",
    "\n",
    "std::vector<int> v (arr, arr + sizeof(arr)/sizeof(arr[0]));\n"
   ]
  },
  {
   "cell_type": "code",
   "execution_count": 4,
   "metadata": {},
   "outputs": [
    {
     "name": "stderr",
     "output_type": "stream",
     "text": [
      "Not using raw input\n"
     ]
    }
   ],
   "source": [
    ".rawInput"
   ]
  },
  {
   "cell_type": "code",
   "execution_count": 5,
   "metadata": {},
   "outputs": [
    {
     "name": "stdout",
     "output_type": "stream",
     "text": [
      "Original array\n",
      "3 5 -23 4 5 6 96 -12 34 -150 94 -56 134 \n",
      "\n",
      "Max value is \n",
      "172\n"
     ]
    }
   ],
   "source": [
    "std::cout << \"Original array\\n\";\n",
    "\n",
    "for(int i : v) \n",
    "{\n",
    "    std::cout << i << \" \";\n",
    "}\n",
    "\n",
    "std::cout << \"\\n\\n\";\n",
    "\n",
    "int max_value = amazon_interview::max_subarray(v);\n",
    "\n",
    "std::cout << \"Max value is \\n\" << max_value << \"\\n\";"
   ]
  },
  {
   "cell_type": "code",
   "execution_count": null,
   "metadata": {},
   "outputs": [],
   "source": []
  }
 ],
 "metadata": {
  "kernelspec": {
   "display_name": "C++17",
   "language": "C++17",
   "name": "xeus-cling-cpp17"
  },
  "language_info": {
   "codemirror_mode": "text/x-c++src",
   "file_extension": ".cpp",
   "mimetype": "text/x-c++src",
   "name": "c++",
   "version": "17"
  }
 },
 "nbformat": 4,
 "nbformat_minor": 2
}
