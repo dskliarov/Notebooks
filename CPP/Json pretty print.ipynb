{
 "cells": [
  {
   "cell_type": "code",
   "execution_count": 1,
   "metadata": {},
   "outputs": [],
   "source": [
    "/*\n",
    "Create pretty printer to output json as table\n",
    "*/"
   ]
  },
  {
   "cell_type": "code",
   "execution_count": 2,
   "metadata": {},
   "outputs": [
    {
     "name": "stderr",
     "output_type": "stream",
     "text": [
      "Using raw input\n"
     ]
    }
   ],
   "source": [
    ".rawInput"
   ]
  },
  {
   "cell_type": "code",
   "execution_count": 3,
   "metadata": {},
   "outputs": [],
   "source": [
    "using namespace std;\n",
    "using namespace nlohmann;\n",
    "\n",
    "namespace algorithm {\n",
    "  \n",
    "    void print_json(string str) {\n",
    "      auto j = json::parse(str);\n",
    "      for(json::iterator it = j.begin(); it != j.end(); ++it) {\n",
    "          std::cout << *it << \"\\n\";\n",
    "      }\n",
    "  }  \n",
    "}\n"
   ]
  },
  {
   "cell_type": "code",
   "execution_count": 4,
   "metadata": {},
   "outputs": [
    {
     "name": "stderr",
     "output_type": "stream",
     "text": [
      "Not using raw input\n"
     ]
    }
   ],
   "source": [
    ".rawInput"
   ]
  },
  {
   "cell_type": "code",
   "execution_count": 5,
   "metadata": {},
   "outputs": [
    {
     "name": "stdout",
     "output_type": "stream",
     "text": [
      "true\n",
      "3.141\n"
     ]
    }
   ],
   "source": [
    "using namespace std;\n",
    "using namespace algorithm;\n",
    "\n",
    "string str = \"{ \\\"happy\\\": true, \\\"pi\\\": 3.141 }\";\n",
    "\n",
    "print_json(str);"
   ]
  }
 ],
 "metadata": {
  "kernelspec": {
   "display_name": "C++17",
   "language": "C++17",
   "name": "xeus-cling-cpp17"
  },
  "language_info": {
   "codemirror_mode": "text/x-c++src",
   "file_extension": ".cpp",
   "mimetype": "text/x-c++src",
   "name": "c++",
   "version": "17"
  }
 },
 "nbformat": 4,
 "nbformat_minor": 2
}
