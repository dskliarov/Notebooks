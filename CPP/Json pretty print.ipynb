{
 "cells": [
  {
   "cell_type": "code",
   "execution_count": 1,
   "metadata": {},
   "outputs": [],
   "source": [
    "/*\n",
    "Create pretty printer to output json as table\n",
    "*/"
   ]
  },
  {
   "cell_type": "code",
   "execution_count": 2,
   "metadata": {},
   "outputs": [
    {
     "name": "stderr",
     "output_type": "stream",
     "text": [
      "Using raw input\n"
     ]
    }
   ],
   "source": [
    ".rawInput"
   ]
  },
  {
   "cell_type": "code",
   "execution_count": 3,
   "metadata": {},
   "outputs": [],
   "source": [
    "#include <unordered_map>\n",
    "using namespace std;\n",
    "using namespace nlohmann;\n",
    "\n",
    "namespace algorithm {\n",
    "    \n",
    "    struct Meta {\n",
    "        int column;\n",
    "        string header;\n",
    "        \n",
    "        Meta (int column, string header) {\n",
    "            this->column = column;\n",
    "            this->header = fmt::sprintf(\"  %s  \", header);\n",
    "        }\n",
    "        \n",
    "        int width() {\n",
    "            return size(this->header);\n",
    "        }\n",
    "    };\n",
    "    \n",
    "    using MetaMap = unordered_map<string, Meta>;\n",
    "    using RowMap = unorderd_map<int, string>;\n",
    "    using ValueMap = vector<RowMap>;\n",
    "    \n",
    "    void get_column_meta(MetaMap * m_map, string key, string value, int &last_col) {\n",
    "        auto search = m_map.find(key);\n",
    "        if (search != m_map.end()) {\n",
    "            return search->second;\n",
    "        }\n",
    "        last_col++;\n",
    "        Meta meta = new Meta(last_col, keys);\n",
    "        m_map.insert({key, meta});\n",
    "        return meta;\n",
    "    }\n",
    "\n",
    "    void to_row(MetaMap * m_map, ValueMap * m_map, auto row, int &last_col) {\n",
    "        for(json::iterator it = row.begin(); it != row.end(); it++) {\n",
    "            auto meta = get_column_meta(m_map, it.key(), it.value(), last_col);\n",
    "            \n",
    "        }\n",
    "    }\n",
    "    \n",
    "    void print_json(string str) {\n",
    "      MetaMap meta_map = {};\n",
    "      ValueMap value_map;\n",
    "      auto j = json::parse(str);\n",
    "      for(json::iterator it = j.begin(); it != j.end(); ++it) {\n",
    "          auto row = it.value();\n",
    "          for(json::iterator it1 = row.begin(); it1 != row.end(); ++it1) {\n",
    "              std::cout << it1.value() << \"\\n\";\n",
    "          }\n",
    "      }\n",
    "  }  \n",
    "}\n"
   ]
  },
  {
   "cell_type": "code",
   "execution_count": 4,
   "metadata": {},
   "outputs": [
    {
     "name": "stderr",
     "output_type": "stream",
     "text": [
      "Not using raw input\n"
     ]
    }
   ],
   "source": [
    ".rawInput"
   ]
  },
  {
   "cell_type": "code",
   "execution_count": 5,
   "metadata": {},
   "outputs": [
    {
     "name": "stdout",
     "output_type": "stream",
     "text": [
      "true\n",
      "3.141\n",
      "3\n",
      "false\n"
     ]
    }
   ],
   "source": [
    "using namespace std;\n",
    "using namespace algorithm;\n",
    "\n",
    "string str = \"[{ \\\"happy\\\": true, \\\"pi\\\": 3.141 }, { \\\"pi\\\": 3 }, { \\\"happy\\\": false }]\";\n",
    "\n",
    "print_json(str);"
   ]
  }
 ],
 "metadata": {
  "kernelspec": {
   "display_name": "C++17",
   "language": "C++17",
   "name": "xeus-cling-cpp17"
  },
  "language_info": {
   "codemirror_mode": "text/x-c++src",
   "file_extension": ".cpp",
   "mimetype": "text/x-c++src",
   "name": "c++",
   "version": "17"
  }
 },
 "nbformat": 4,
 "nbformat_minor": 2
}
