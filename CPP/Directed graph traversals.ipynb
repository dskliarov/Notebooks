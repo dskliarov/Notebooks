{
 "cells": [
  {
   "cell_type": "code",
   "execution_count": 1,
   "metadata": {},
   "outputs": [
    {
     "name": "stderr",
     "output_type": "stream",
     "text": [
      "Using raw input\n"
     ]
    }
   ],
   "source": [
    ".rawInput"
   ]
  },
  {
   "cell_type": "code",
   "execution_count": 2,
   "metadata": {},
   "outputs": [
    {
     "name": "stderr",
     "output_type": "stream",
     "text": [
      "\u001b[1minput_line_8:18:9: \u001b[0m\u001b[0;1;31merror: \u001b[0m\u001b[1mredefinition of 'v'\u001b[0m\n",
      "    int v = v;\n",
      "\u001b[0;1;32m        ^\n",
      "\u001b[0m\u001b[1minput_line_8:16:18: \u001b[0m\u001b[0;1;30mnote: \u001b[0mprevious definition is here\u001b[0m\n",
      "Graph::Graph(int v)\n",
      "\u001b[0;1;32m                 ^\n",
      "\u001b[0m"
     ]
    },
    {
     "ename": "Interpreter Error",
     "evalue": "",
     "output_type": "error",
     "traceback": [
      "Interpreter Error: "
     ]
    }
   ],
   "source": [
    "#include <list>\n",
    "#include <iostream>\n",
    "\n",
    "using namespace std;\n",
    "\n",
    "class Graph {\n",
    "    \n",
    "    int vertices; // No. of vertices\n",
    "    \n",
    "    list<int> *adj; // Pointer to an array containing adjacency lists\n",
    "    \n",
    "    void DFSUtil(int v, bool visited[]); // Recurcive function used by DFS\n",
    "public:\n",
    "    Graph(int V); // Constructor\n",
    "    \n",
    "    void addEdge(int v, int w); // Add edge to the graph\n",
    "    \n",
    "    void DFS(int v); // DFS traversal of the vertices reachable from v\n",
    "};\n",
    "\n",
    "Graph::Graph(int v)\n",
    "{\n",
    "    int vertices = v;\n",
    "    adj = new list<int>[vertices];\n",
    "}\n",
    "\n",
    "void Graph::addEdge(int v, int w)\n",
    "{\n",
    "    adj[v].push_back(w);\n",
    "}\n",
    "\n",
    "void Graph::DFSUtil(int v, bool visited[])\n",
    "{\n",
    "    visited[v] = true; // Mark current node as visited \n",
    "    cout << v << \" \";  // and print it\n",
    "    \n",
    "    list<int>::iterator i;\n",
    "    for(i = adj[v].begin(); i != adj[v].end(); i++)\n",
    "        if (!visited[*i])\n",
    "            DFSUtil(*i, visited);\n",
    "}\n",
    "\n",
    "void Graph::DFS(int v) // DFS traversal of the vertices reachable from v\n",
    "{\n",
    "    cout << \"Deep First Traversal starting from node \" << v << \"\\n\";\n",
    "    bool *visited = new bool[v];\n",
    "    for(int i = 0; i < v; i++)\n",
    "    {\n",
    "        visited[i] = false;\n",
    "    }\n",
    "    \n",
    "    DFSUtil(v, visited); // Print DFS traversal\n",
    "}"
   ]
  },
  {
   "cell_type": "code",
   "execution_count": null,
   "metadata": {},
   "outputs": [],
   "source": [
    ".rawInput"
   ]
  },
  {
   "cell_type": "code",
   "execution_count": null,
   "metadata": {},
   "outputs": [],
   "source": [
    "Graph g(4);\n",
    "g.addEdge(0, 1);\n",
    "g.addEdge(0, 2);\n",
    "g.addEdge(1, 2);\n",
    "g.addEdge(2, 0);\n",
    "g.addEdge(2, 3);\n",
    "g.addEdge(3, 3);\n",
    "g.DFS(2);"
   ]
  }
 ],
 "metadata": {
  "kernelspec": {
   "display_name": "C++17",
   "language": "C++17",
   "name": "xeus-cling-cpp17"
  },
  "language_info": {
   "codemirror_mode": "text/x-c++src",
   "file_extension": ".cpp",
   "mimetype": "text/x-c++src",
   "name": "c++",
   "version": "17"
  }
 },
 "nbformat": 4,
 "nbformat_minor": 2
}
