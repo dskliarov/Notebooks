{
 "cells": [
  {
   "cell_type": "code",
   "execution_count": 1,
   "metadata": {},
   "outputs": [
    {
     "name": "stderr",
     "output_type": "stream",
     "text": [
      "Using raw input\n"
     ]
    }
   ],
   "source": [
    ".rawInput"
   ]
  },
  {
   "cell_type": "code",
   "execution_count": null,
   "metadata": {},
   "outputs": [],
   "source": [
    "import <vector>;\n",
    "\n",
    "namespace amazon_interview {\n",
    "    \n",
    "    using namespace std;\n",
    "    \n",
    "    struct Node {\n",
    "        int data;\n",
    "        struct Node *next;\n",
    "    }\n",
    "    \n",
    "    void print list(Node node) {\n",
    "        while (node.next != NULL)\n",
    "    }\n",
    "    \n",
    "    Node add_node(Node *head, int data) {\n",
    "        Node new_node = { .data = data, .next = NULL };\n",
    "        head.next = new_node;\n",
    "        return new_node;\n",
    "    }\n",
    "    \n",
    "    Node init(int data[], int size) {\n",
    "        Node node = NULL;\n",
    "        for (int i = size - 1; i >= 0; i--) {\n",
    "            node = add_node(node, data[i]);\n",
    "        }\n",
    "        return node;\n",
    "    }\n",
    "}"
   ]
  }
 ],
 "metadata": {
  "kernelspec": {
   "display_name": "C++17",
   "language": "C++17",
   "name": "xeus-cling-cpp17"
  },
  "language_info": {
   "codemirror_mode": "text/x-c++src",
   "file_extension": ".cpp",
   "mimetype": "text/x-c++src",
   "name": "c++",
   "version": "17"
  }
 },
 "nbformat": 4,
 "nbformat_minor": 2
}
