{
 "cells": [
  {
   "cell_type": "code",
   "execution_count": 1,
   "metadata": {},
   "outputs": [
    {
     "name": "stderr",
     "output_type": "stream",
     "text": [
      "Using raw input\n"
     ]
    }
   ],
   "source": [
    ".rawInput"
   ]
  },
  {
   "cell_type": "code",
   "execution_count": 2,
   "metadata": {},
   "outputs": [],
   "source": [
    "using namespace std;\n",
    "\n",
    "namespace algorithms {\n",
    "    \n",
    "    struct Node {\n",
    "        int data;\n",
    "        struct Node *left; \n",
    "        struct Node *right;\n",
    "    \n",
    "        Node (int data) {\n",
    "            this->data = data;\n",
    "            left = right = NULL;\n",
    "        }\n",
    "    };\n",
    "\n",
    "    // Depth first traversal\n",
    "    //\n",
    "    // inorder\n",
    "    // (Left, Root, Right)\n",
    "    void print_in_order(struct Node *tree) {\n",
    "        if (tree == NULL)\n",
    "            return;\n",
    "        print_in_order(tree->left);\n",
    "        cout << tree->data << \" \";\n",
    "        print_in_order(tree->right);\n",
    "    }\n",
    "    \n",
    "    // postorder\n",
    "    // (Left, Right, Root)\n",
    "    void print_post_order(struct Node *tree) {\n",
    "        if (tree == NULL)\n",
    "            return;\n",
    "        print_post_order(tree->left);\n",
    "        print_post_order(tree->right);\n",
    "        cout << tree->data << \" \";\n",
    "    }\n",
    "    \n",
    "    // preorder\n",
    "    // (Root, Left, Right) \n",
    "    void print_pre_order(struct Node *tree) {\n",
    "        if (tree == NULL)\n",
    "            return;\n",
    "        \n",
    "        cout << tree->data << \" \";\n",
    "        print_pre_order(tree->left);\n",
    "        print_pre_order(tree->right);\n",
    "    }\n",
    "}"
   ]
  },
  {
   "cell_type": "code",
   "execution_count": 3,
   "metadata": {},
   "outputs": [
    {
     "name": "stderr",
     "output_type": "stream",
     "text": [
      "Not using raw input\n"
     ]
    }
   ],
   "source": [
    ".rawInput"
   ]
  },
  {
   "cell_type": "code",
   "execution_count": 4,
   "metadata": {},
   "outputs": [
    {
     "name": "stdout",
     "output_type": "stream",
     "text": [
      "\n",
      "Preorder traversal of binary tree is \n",
      "1 2 4 5 3 \n",
      "\n",
      "Inorder traversal of binary tree is \n",
      "4 2 5 1 3 \n",
      "\n",
      "Postorder traversal of binary tree is \n",
      "4 5 2 3 1 "
     ]
    }
   ],
   "source": [
    "using namespace std;\n",
    "using namespace algorithms;\n",
    "\n",
    "struct Node *tree = new Node(1);\n",
    "tree->left        = new Node(2);\n",
    "tree->right       = new Node(3);\n",
    "tree->left->left  = new Node(4);\n",
    "tree->left->right = new Node(5); \n",
    " \n",
    "cout << \"\\nPreorder traversal of binary tree is \\n\";\n",
    "print_pre_order(tree);\n",
    "\n",
    "cout << \"\\n\\nInorder traversal of binary tree is \\n\";\n",
    "print_in_order(tree); \n",
    "\n",
    "cout << \"\\n\\nPostorder traversal of binary tree is \\n\";\n",
    "print_post_order(tree);\n"
   ]
  },
  {
   "cell_type": "code",
   "execution_count": null,
   "metadata": {},
   "outputs": [],
   "source": []
  }
 ],
 "metadata": {
  "kernelspec": {
   "display_name": "C++17",
   "language": "C++17",
   "name": "xeus-cling-cpp17"
  },
  "language_info": {
   "codemirror_mode": "text/x-c++src",
   "file_extension": ".cpp",
   "mimetype": "text/x-c++src",
   "name": "c++",
   "version": "17"
  }
 },
 "nbformat": 4,
 "nbformat_minor": 2
}
