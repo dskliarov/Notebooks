{
 "cells": [
  {
   "cell_type": "code",
   "execution_count": null,
   "metadata": {},
   "outputs": [],
   "source": [
    "/*\n",
    "Michele has created a word game for her students. The word game begins with Michelle writing a string and a number\n",
    "K, on the board. The students have to find the substrings of size K with K distinct characters.\n",
    "\n",
    "Write an algorithm to help the students find the correct answer. If the given string does not have K distinct \n",
    "characters then output an empty list.\n",
    "\n",
    "Input\n",
    "The input to the function/method consists of two arguments - inputStr, representing the string written\n",
    "by the teacher; num, an integer representing the number, K, written by the teacher on the board.\n",
    "\n",
    "Output\n",
    "Return distinct substrings of input string of size K with K distinct characters.\n",
    "\n",
    "Constraints\n",
    "0 <= num <= 26\n",
    "\n",
    "Note\n",
    "The input string consists of only lowercase letters of the English alphabet.\n",
    "Substrings are not necessarily distinct.\n",
    "\n",
    "Examples\n",
    "Input:\n",
    "inputStr = awaglknagawunagwkwagl\n",
    "num = 4\n",
    "\n",
    "Output:\n",
    "{wagl, aglk, glkn, lkna, knag, gawu, awun, wuna, unag, nagw, agwk, kwag}\n",
    "\n",
    "Explanation:\n",
    "Substrings in order are: wagl, aglk, glkn, lkna, knag, gawu, awun, wuna, unag, nagw, agwk, kwag, wagl\n",
    "\"wagl\" is represented twice, but is included in the output once.\n",
    "*/"
   ]
  }
 ],
 "metadata": {
  "kernelspec": {
   "display_name": "C++17",
   "language": "C++17",
   "name": "xeus-cling-cpp17"
  },
  "language_info": {
   "codemirror_mode": "text/x-c++src",
   "file_extension": ".cpp",
   "mimetype": "text/x-c++src",
   "name": "c++",
   "version": "17"
  }
 },
 "nbformat": 4,
 "nbformat_minor": 2
}
