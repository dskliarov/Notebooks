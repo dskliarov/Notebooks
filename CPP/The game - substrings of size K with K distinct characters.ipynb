{
 "cells": [
  {
   "cell_type": "code",
   "execution_count": 1,
   "metadata": {},
   "outputs": [],
   "source": [
    "/*\n",
    "Michele has created a word game for her students. The word game begins with Michelle writing a string and a number\n",
    "K, on the board. The students have to find the substrings of size K with K distinct characters.\n",
    "\n",
    "Write an algorithm to help the students find the correct answer. If the given string does not have K distinct \n",
    "characters then output an empty list.\n",
    "\n",
    "Input\n",
    "The input to the function/method consists of two arguments - inputStr, representing the string written\n",
    "by the teacher; num, an integer representing the number, K, written by the teacher on the board.\n",
    "\n",
    "Output\n",
    "Return distinct substrings of input string of size K with K distinct characters.\n",
    "\n",
    "Constraints\n",
    "0 <= num <= 26\n",
    "\n",
    "Note\n",
    "The input string consists of only lowercase letters of the English alphabet.\n",
    "Substrings are not necessarily distinct.\n",
    "\n",
    "Examples\n",
    "Input:\n",
    "inputStr = awaglknagawunagwkwagl\n",
    "num = 4\n",
    "\n",
    "Output:\n",
    "{wagl, aglk, glkn, lkna, knag, gawu, awun, wuna, unag, nagw, agwk, kwag}\n",
    "\n",
    "Explanation:\n",
    "Substrings in order are: wagl, aglk, glkn, lkna, knag, gawu, awun, wuna, unag, nagw, agwk, kwag, wagl\n",
    "\"wagl\" is represented twice, but is included in the output once.\n",
    "*/"
   ]
  },
  {
   "cell_type": "code",
   "execution_count": 2,
   "metadata": {},
   "outputs": [
    {
     "name": "stderr",
     "output_type": "stream",
     "text": [
      "Using raw input\n"
     ]
    }
   ],
   "source": [
    ".rawInput"
   ]
  },
  {
   "cell_type": "code",
   "execution_count": 3,
   "metadata": {},
   "outputs": [],
   "source": [
    "#import <unordered_set>\n",
    "\n",
    "using namespace std;\n",
    "\n",
    "void printArray(string arr[], int size) {\n",
    "    for (int i = 0; i < size; i++) {\n",
    "        cout << arr[i] << \" \";\n",
    "    }\n",
    "    cout << \"\\n\\n\";\n",
    "}\n",
    "\n",
    "void execute(string inputString, int wordLength) {\n",
    "    unordered_set<char> charsSet;\n",
    "    unordered_set<string> wordsSet;\n",
    "    int i = 0;\n",
    "    int j = 0;\n",
    "    while (i < inputString.size()) {\n",
    "        j = i + wordLength - 1;        \n",
    "        while (charsSet.size() < wordLength){            \n",
    "            auto charSetRslt = charsSet.insert(inputString[j]);\n",
    "            \n",
    "            cout << i << \" \" << j << \" \" << charSetRslt.second << \" \" <<\"\\n\";            \n",
    "            if (!charSetRslt.second) {\n",
    "                i = j + 1;\n",
    "                j = -1;\n",
    "                break;\n",
    "            }\n",
    "            j--;\n",
    "        }\n",
    "        \n",
    "        if (j > 0) {\n",
    "            charsSet.erase(inputString[i]);\n",
    "            cout << i << \" \" << inputString.substr(i, wordLength) << \"\\n\";\n",
    "            wordsSet.insert(inputString.substr(i, wordLength));\n",
    "            i++;\n",
    "        }        \n",
    "    }\n",
    "    int arraySize = wordsSet.size();\n",
    "    string rslt[arraySize];\n",
    "    j = 0;\n",
    "    \n",
    "    cout << \"words set size \" << wordsSet.size() << \"\\n\";\n",
    "    \n",
    "    for (auto it = wordsSet.begin(); it != wordsSet.end(); it++) {\n",
    "        rslt[j] = *it;\n",
    "        cout << *it << \"\\n\";\n",
    "    }\n",
    "    \n",
    "    printArray(rslt, arraySize);\n",
    "}"
   ]
  },
  {
   "cell_type": "code",
   "execution_count": 4,
   "metadata": {},
   "outputs": [
    {
     "name": "stderr",
     "output_type": "stream",
     "text": [
      "Not using raw input\n"
     ]
    }
   ],
   "source": [
    ".rawInput"
   ]
  },
  {
   "cell_type": "code",
   "execution_count": 5,
   "metadata": {},
   "outputs": [
    {
     "name": "stdout",
     "output_type": "stream",
     "text": [
      "0 3 1 \n",
      "0 2 1 \n",
      "0 1 1 \n",
      "0 0 0 \n",
      "1 4 1 \n",
      "1 wagl\n",
      "2 5 1 \n",
      "2 aglk\n",
      "3 6 1 \n",
      "3 glkn\n",
      "4 7 1 \n",
      "4 lkna\n",
      "5 8 1 \n",
      "5 knag\n",
      "6 9 0 \n",
      "10 13 0 \n",
      "14 17 1 \n",
      "14 gwkw\n",
      "15 18 0 \n",
      "19 22 1 \n",
      "19 gl\n",
      "20 l\n",
      "words set size 8\n",
      "gl\n",
      "knag\n",
      "l\n",
      "lkna\n",
      "aglk\n",
      "gwkw\n",
      "glkn\n",
      "wagl\n",
      "wagl        \n",
      "\n"
     ]
    }
   ],
   "source": [
    "string inputStr = \"awaglknagawunagwkwagl\";\n",
    "execute(inputStr, 4);"
   ]
  }
 ],
 "metadata": {
  "kernelspec": {
   "display_name": "C++17",
   "language": "C++17",
   "name": "xeus-cling-cpp17"
  },
  "language_info": {
   "codemirror_mode": "text/x-c++src",
   "file_extension": ".cpp",
   "mimetype": "text/x-c++src",
   "name": "c++",
   "version": "17"
  }
 },
 "nbformat": 4,
 "nbformat_minor": 2
}
