{
 "cells": [
  {
   "cell_type": "code",
   "execution_count": 1,
   "metadata": {},
   "outputs": [],
   "source": [
    "/*\n",
    "Michele has created a word game for her students. The word game begins with Michelle writing a string and a number\n",
    "K, on the board. The students have to find the substrings of size K with K distinct characters.\n",
    "\n",
    "Write an algorithm to help the students find the correct answer. If the given string does not have K distinct \n",
    "characters then output an empty list.\n",
    "\n",
    "Input\n",
    "The input to the function/method consists of two arguments - inputStr, representing the string written\n",
    "by the teacher; num, an integer representing the number, K, written by the teacher on the board.\n",
    "\n",
    "Output\n",
    "Return distinct substrings of input string of size K with K distinct characters.\n",
    "\n",
    "Constraints\n",
    "0 <= num <= 26\n",
    "\n",
    "Note\n",
    "The input string consists of only lowercase letters of the English alphabet.\n",
    "Substrings are not necessarily distinct.\n",
    "\n",
    "Examples\n",
    "Input:\n",
    "inputStr = awaglknagawunagwkwagl\n",
    "num = 4\n",
    "\n",
    "Output:\n",
    "{wagl, aglk, glkn, lkna, knag, gawu, awun, wuna, unag, nagw, agwk, kwag}\n",
    "Explanation:\n",
    "Substrings in order are: wagl, aglk, glkn, lkna, knag, gawu, awun, wuna, unag, nagw, agwk, kwag, wagl\n",
    "\"wagl\" is represented twice, but is included in the output once.\n",
    "*/"
   ]
  },
  {
   "cell_type": "code",
   "execution_count": 2,
   "metadata": {},
   "outputs": [
    {
     "name": "stderr",
     "output_type": "stream",
     "text": [
      "Using raw input\n"
     ]
    }
   ],
   "source": [
    ".rawInput"
   ]
  },
  {
   "cell_type": "code",
   "execution_count": 3,
   "metadata": {},
   "outputs": [],
   "source": [
    "#import <unordered_set>\n",
    "#import <vector>\n",
    "\n",
    "using namespace std;\n",
    "\n",
    "void printArray(vector<string> *arr) {\n",
    "    cout << \"words set size \" << arr->size() << \"\\n\";\n",
    "    for (auto i = arr->begin(); i != arr->end(); i++)\n",
    "        cout << *i << \" \";\n",
    "    cout << \"\\n\\n\";\n",
    "}\n",
    "\n",
    "template<typename T>\n",
    "bool isUnique(T value, unordered_set<T> * set) {\n",
    "    auto rslt = set->insert(value);\n",
    "    return rslt.second;\n",
    "}\n",
    "\n",
    "bool isDistinctChars(string word) {\n",
    "    unordered_set<char> charsSet;\n",
    "    for (int i = 0; i < word.size(); i++)\n",
    "        if (!isUnique(word[i], &charsSet))\n",
    "            return false;\n",
    "    return true;\n",
    "}\n",
    "\n",
    "void execute(string inputString, int wordLength) {\n",
    "    unordered_set<string> wordSet;\n",
    "    vector<string> rslt;\n",
    "    for (int i = 0; i < (inputString.size() - wordLength); i++) {\n",
    "        string word = inputString.substr(i, wordLength);\n",
    "        if (isDistinctChars(word))\n",
    "            rslt.push_back(word);\n",
    "    }\n",
    "    printArray(&rslt);\n",
    "}"
   ]
  },
  {
   "cell_type": "code",
   "execution_count": 4,
   "metadata": {},
   "outputs": [
    {
     "name": "stderr",
     "output_type": "stream",
     "text": [
      "Not using raw input\n"
     ]
    }
   ],
   "source": [
    ".rawInput"
   ]
  },
  {
   "cell_type": "code",
   "execution_count": 5,
   "metadata": {},
   "outputs": [
    {
     "name": "stdout",
     "output_type": "stream",
     "text": [
      "words set size 12\n",
      "wagl aglk glkn lkna knag gawu awun wuna unag nagw agwk kwag \n",
      "\n"
     ]
    }
   ],
   "source": [
    "string inputStr = \"awaglknagawunagwkwagl\";\n",
    "execute(inputStr, 4);"
   ]
  }
 ],
 "metadata": {
  "kernelspec": {
   "display_name": "C++17",
   "language": "C++17",
   "name": "xeus-cling-cpp17"
  },
  "language_info": {
   "codemirror_mode": "text/x-c++src",
   "file_extension": ".cpp",
   "mimetype": "text/x-c++src",
   "name": "c++",
   "version": "17"
  }
 },
 "nbformat": 4,
 "nbformat_minor": 2
}
