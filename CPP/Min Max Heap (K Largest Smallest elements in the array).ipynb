{
 "cells": [
  {
   "cell_type": "code",
   "execution_count": 1,
   "metadata": {},
   "outputs": [],
   "source": [
    "/*\n",
    "Min/Max heap\n",
    "*/"
   ]
  },
  {
   "cell_type": "code",
   "execution_count": 2,
   "metadata": {},
   "outputs": [
    {
     "name": "stderr",
     "output_type": "stream",
     "text": [
      "Using raw input\n"
     ]
    }
   ],
   "source": [
    ".rawInput"
   ]
  },
  {
   "cell_type": "code",
   "execution_count": 3,
   "metadata": {},
   "outputs": [],
   "source": [
    "#import <algorithm>\n",
    "#import <vector>\n",
    "\n",
    "using namespace std;\n",
    "\n",
    "void topThree(vector<int> * v) {\n",
    "    cout << \"3 largest elements\\n\";\n",
    "    make_heap(v->begin(), v->end());\n",
    "    for (int i = 0; i < 3; i++) {\n",
    "        cout << v->front() << \" \";\n",
    "        pop_heap(v->begin(), v->end());\n",
    "        v->pop_back();\n",
    "    }\n",
    "    cout << \"\\n\\n\";\n",
    "}\n",
    "\n",
    "void bottomThree(vector<int> * v) {\n",
    "    cout << \"3 smallest elements\\n\";\n",
    "    make_heap(v->begin(), v->end(), greater());\n",
    "    for (int i = 0; i < 3; i++) {\n",
    "        cout << v->front() << \" \";\n",
    "        pop_heap(v->begin(), v->end(), greater());\n",
    "        v->pop_back();\n",
    "    }\n",
    "    cout << \"\\n\\n\";    \n",
    "}"
   ]
  },
  {
   "cell_type": "code",
   "execution_count": 4,
   "metadata": {},
   "outputs": [
    {
     "name": "stderr",
     "output_type": "stream",
     "text": [
      "Not using raw input\n"
     ]
    }
   ],
   "source": [
    ".rawInput"
   ]
  },
  {
   "cell_type": "code",
   "execution_count": 5,
   "metadata": {},
   "outputs": [
    {
     "name": "stdout",
     "output_type": "stream",
     "text": [
      "3 largest elements\n",
      "12 9 8 \n",
      "\n",
      "3 smallest elements\n",
      "0 1 2 \n",
      "\n"
     ]
    }
   ],
   "source": [
    "static const int arr[] = {5,2,8,3,4,1,9,12,0,7};\n",
    "vector<int> v(arr, arr + (sizeof(arr)/sizeof(arr[0])));\n",
    "topThree(&v);\n",
    "bottomThree(&v);"
   ]
  }
 ],
 "metadata": {
  "kernelspec": {
   "display_name": "C++17",
   "language": "C++17",
   "name": "xeus-cling-cpp17"
  },
  "language_info": {
   "codemirror_mode": "text/x-c++src",
   "file_extension": ".cpp",
   "mimetype": "text/x-c++src",
   "name": "c++",
   "version": "17"
  }
 },
 "nbformat": 4,
 "nbformat_minor": 2
}
