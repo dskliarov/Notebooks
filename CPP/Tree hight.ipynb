{
 "cells": [
  {
   "cell_type": "code",
   "execution_count": 1,
   "metadata": {},
   "outputs": [
    {
     "name": "stderr",
     "output_type": "stream",
     "text": [
      "Using raw input\n"
     ]
    }
   ],
   "source": [
    ".rawInput"
   ]
  },
  {
   "cell_type": "code",
   "execution_count": 2,
   "metadata": {},
   "outputs": [],
   "source": [
    "namespace amazon_interview {\n",
    "    \n",
    "    using namespace std;\n",
    "    \n",
    "    struct node {\n",
    "        int data;\n",
    "        struct node* left;\n",
    "        struct node* right;\n",
    "    };\n",
    "    \n",
    "    node* new_node(int data) {\n",
    "        node* temp = new node();\n",
    "        temp->data = data;\n",
    "        temp->left = temp->right = NULL;\n",
    "        return temp;\n",
    "    }\n",
    "    \n",
    "    int depth(node* tree) {\n",
    "        if (tree == NULL) {\n",
    "            return 0;\n",
    "        } else {\n",
    "            int ldepth = depth(tree->left);\n",
    "            int rdepth = depth(tree->right);\n",
    "            if (ldepth > rdepth) {\n",
    "                return ldepth + 1;\n",
    "            }\n",
    "            \n",
    "            return rdepth + 1;\n",
    "        }\n",
    "    }\n",
    "}"
   ]
  },
  {
   "cell_type": "code",
   "execution_count": 3,
   "metadata": {},
   "outputs": [
    {
     "name": "stderr",
     "output_type": "stream",
     "text": [
      "Not using raw input\n"
     ]
    }
   ],
   "source": [
    ".rawInput"
   ]
  },
  {
   "cell_type": "code",
   "execution_count": 4,
   "metadata": {},
   "outputs": [
    {
     "name": "stdout",
     "output_type": "stream",
     "text": [
      "The tree depth is 5"
     ]
    }
   ],
   "source": [
    "using namespace amazon_interview;\n",
    "\n",
    "node* root = new_node(1);\n",
    "root->left = new_node(2);\n",
    "root->right = new_node(4);\n",
    "root->left->left = new_node(5);\n",
    "root->left->right = new_node(4);\n",
    "root->right->left = new_node(8);\n",
    "root->right->right = new_node(9);\n",
    "root->left->left->left = new_node(56);\n",
    "root->left->left->left->left = new_node(90);\n",
    "\n",
    "int rslt = depth(root);\n",
    "cout << \"The tree depth is \" << rslt;"
   ]
  }
 ],
 "metadata": {
  "kernelspec": {
   "display_name": "C++17",
   "language": "C++17",
   "name": "xeus-cling-cpp17"
  },
  "language_info": {
   "codemirror_mode": "text/x-c++src",
   "file_extension": ".cpp",
   "mimetype": "text/x-c++src",
   "name": "c++",
   "version": "17"
  }
 },
 "nbformat": 4,
 "nbformat_minor": 2
}
