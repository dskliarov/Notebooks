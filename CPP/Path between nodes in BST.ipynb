{
 "cells": [
  {
   "cell_type": "code",
   "execution_count": null,
   "metadata": {},
   "outputs": [],
   "source": [
    "/*\n",
    "A binary search tree (BST) is defined as a binary tree in which each node satisfies the property \n",
    "such that its value is larger than the value of every node in its left subtree, and less than or equal \n",
    "to the value of every node in its right subtree. The distance between two values in a binary search tree \n",
    "is the minimum number of edges traversed to reach from one value to the other.\n",
    "\n",
    "Given a list of n unique integers, construct a BST by inserting each integer in the given order without\n",
    "rebalancing the tree. Then, find the distance between the two given nodes, node1 and node2, of the BST. \n",
    "In case, either node1 or node2 is not present in the tree, return -1.\n",
    "\n",
    "Input\n",
    "The input to the function/method consists of four arguments - values, representing a list of intergers; \n",
    "n, an integer representing the number of elements in the list, node1, an integer representing the first node\n",
    "and node2, an integer representing the second node.\n",
    "\n",
    "Output\n",
    "Return an integer representing the distance between node1 and node2, else return -1, if either node1 or node2 \n",
    "is not present in the tree.\n",
    "\n",
    "Constraints\n",
    "0 < n < 2^31\n",
    "0 <= values[i] < 2^31\n",
    "0 <= i < n\n",
    "\n",
    "Example\n",
    "Input:\n",
    "values = [5, 6, 3, 1, 2, 4], n = 6, node1 = 2, node2 = 4\n",
    "output:\n",
    "3\n",
    "*/ "
   ]
  },
  {
   "cell_type": "code",
   "execution_count": null,
   "metadata": {},
   "outputs": [],
   "source": [
    ".rawInput"
   ]
  },
  {
   "cell_type": "code",
   "execution_count": null,
   "metadata": {},
   "outputs": [],
   "source": [
    "#import <vector>\n",
    "\n",
    "struct bst {\n",
    "    int data;\n",
    "    struct bst *left;\n",
    "    struct bst *right;\n",
    "}\n",
    "\n",
    "namespace algorithms {\n",
    "    using namespace std;\n",
    "    \n",
    "    \n",
    "}"
   ]
  },
  {
   "cell_type": "code",
   "execution_count": null,
   "metadata": {},
   "outputs": [],
   "source": [
    ".rawInput"
   ]
  }
 ],
 "metadata": {
  "kernelspec": {
   "display_name": "C++17",
   "language": "C++17",
   "name": "xeus-cling-cpp17"
  },
  "language_info": {
   "codemirror_mode": "text/x-c++src",
   "file_extension": ".cpp",
   "mimetype": "text/x-c++src",
   "name": "c++",
   "version": "17"
  }
 },
 "nbformat": 4,
 "nbformat_minor": 2
}
