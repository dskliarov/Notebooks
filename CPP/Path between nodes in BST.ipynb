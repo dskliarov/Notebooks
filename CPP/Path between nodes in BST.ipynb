{
 "cells": [
  {
   "cell_type": "code",
   "execution_count": 1,
   "metadata": {},
   "outputs": [],
   "source": [
    "/*\n",
    "A binary search tree (BST) is defined as a binary tree in which each node satisfies the property \n",
    "such that its value is larger than the value of every node in its left subtree, and less than or equal \n",
    "to the value of every node in its right subtree. The distance between two values in a binary search tree \n",
    "is the minimum number of edges traversed to reach from one value to the other.\n",
    "\n",
    "Given a list of n unique integers, construct a BST by inserting each integer in the given order without\n",
    "rebalancing the tree. Then, find the distance between the two given nodes, node1 and node2, of the BST. \n",
    "In case, either node1 or node2 is not present in the tree, return -1.\n",
    "\n",
    "Input\n",
    "The input to the function/method consists of four arguments - values, representing a list of intergers; \n",
    "n, an integer representing the number of elements in the list, node1, an integer representing the first node\n",
    "and node2, an integer representing the second node.\n",
    "\n",
    "Output\n",
    "Return an integer representing the distance between node1 and node2, else return -1, if either node1 or node2 \n",
    "is not present in the tree.\n",
    "\n",
    "Constraints\n",
    "0 < n < 2^31\n",
    "0 <= values[i] < 2^31\n",
    "0 <= i < n\n",
    "\n",
    "Example\n",
    "Input:\n",
    "values = [5, 6, 3, 1, 2, 4], n = 6, node1 = 2, node2 = 4\n",
    "output:\n",
    "3\n",
    "*/ "
   ]
  },
  {
   "cell_type": "code",
   "execution_count": 2,
   "metadata": {},
   "outputs": [
    {
     "name": "stderr",
     "output_type": "stream",
     "text": [
      "Using raw input\n"
     ]
    }
   ],
   "source": [
    ".rawInput"
   ]
  },
  {
   "cell_type": "code",
   "execution_count": 3,
   "metadata": {},
   "outputs": [
    {
     "name": "stderr",
     "output_type": "stream",
     "text": [
      "\u001b[1minput_line_8:50:1: \u001b[0m\u001b[0;1;35mwarning: \u001b[0m\u001b[1mcontrol may reach end of non-void function [-Wreturn-type]\u001b[0m\n",
      "}\n",
      "\u001b[0;1;32m^\n",
      "\u001b[0m\u001b[1minput_line_8:83:1: \u001b[0m\u001b[0;1;35mwarning: \u001b[0m\u001b[1mcontrol reaches end of non-void function [-Wreturn-type]\u001b[0m\n",
      "}\n",
      "\u001b[0;1;32m^\n",
      "\u001b[0m"
     ]
    }
   ],
   "source": [
    "#import <vector>\n",
    "\n",
    "using namespace std;\n",
    "\n",
    "struct TNode {\n",
    "    int data;\n",
    "    struct TNode *left, *right;\n",
    "};\n",
    "\n",
    "struct TNode* newNode(int data) {\n",
    "    \n",
    "}\n",
    "\n",
    "void insertNode(struct TNode *node, int data) {\n",
    "    if (node->data >= data) {\n",
    "        if(node->left == NULL) {\n",
    "            node->left = newNode(data);\n",
    "            return;\n",
    "        }\n",
    "        insertNode(node->left, data);\n",
    "    }\n",
    "    if (node->right == NULL) {\n",
    "        node->right = newNode(data);\n",
    "        return;\n",
    "    }\n",
    "    insertNode(node->right, data);\n",
    "}\n",
    "\n",
    "struct TNode* unsortedArrayToBst(int arr[], int size) {\n",
    "    \n",
    "    if (size <= 0) {\n",
    "        return NULL;\n",
    "    }\n",
    "    \n",
    "    struct TNode *root = newNode(arr[0]);\n",
    "    \n",
    "    for (int i = 1; i < size; i++) {\n",
    "        insertNode(root, arr[i]);\n",
    "    }\n",
    "    return root;\n",
    "}\n",
    "\n",
    "struct TNode* sortedArrayToBst(int arr[], int start, int end) {\n",
    "    \n",
    "    if (start > end) {\n",
    "        return NULL;\n",
    "    }\n",
    "    \n",
    "    /* Get middle element (in case of sorted array middle element will be root of balansed bst) */\n",
    "    int mid = (start + end)/2;\n",
    "    struct TNode *root = newNode(arr[mid]);\n",
    "    \n",
    "    /*Recurcively construct left subtree*/\n",
    "    root->left = sortedArrayToBst(arr, start, mid - 1);\n",
    "    \n",
    "    /*Recurcively construct right subtree*/\n",
    "    root->right = sortedArrayToBst(arr, mid + 1, end);\n",
    "}\n",
    "\n",
    "void printPreorder(struct TNode *node) {\n",
    "    if (node == NULL) {\n",
    "        return;\n",
    "    }\n",
    "    cout << node->data << \" \";\n",
    "    printPreorder(node->left);\n",
    "    printPreorder(node->right);\n",
    "}\n",
    "\n",
    "void printArray(int arr[], int size) {\n",
    "    for (int i = 0; i < size; i++) {\n",
    "        cout << arr[i] << \" \";\n",
    "    }\n",
    "}\n",
    "\n",
    "void preorderToArray(struct TNode *node, int arr[], int size, int & index) {\n",
    "    if (size <= index) {\n",
    "        return;\n",
    "    }\n",
    "    \n",
    "    arr[index] = node->data;\n",
    "    \n",
    "    index ++;\n",
    "    preorderToArray(node->left, arr, size, index);\n",
    "    index ++;\n",
    "    preorderToArray(node->right, arr, size, index);\n",
    "}\n",
    "\n",
    "int execute(int arr[], int size) {\n",
    "    struct TNode *root = unsortedArrayToBst(arr, size);\n",
    "    printPreorder(root);\n",
    "    int index = 0;\n",
    "    preorderToArray(root, arr, size, index);\n",
    "    root = sortedArrayToBst(arr, 0, size - 1);\n",
    "    printPreorder(root);\n",
    "}"
   ]
  },
  {
   "cell_type": "code",
   "execution_count": 4,
   "metadata": {},
   "outputs": [
    {
     "name": "stderr",
     "output_type": "stream",
     "text": [
      "Not using raw input\n"
     ]
    }
   ],
   "source": [
    ".rawInput"
   ]
  },
  {
   "cell_type": "code",
   "execution_count": 5,
   "metadata": {},
   "outputs": [
    {
     "name": "stderr",
     "output_type": "stream",
     "text": [
      "IncrementalExecutor::executeFunction: symbol '_Z7newNodei' unresolved while linking [cling interface function]!\n",
      "You are probably missing the definition of newNode(int)\n",
      "Maybe you need to load the corresponding shared library?\n"
     ]
    }
   ],
   "source": [
    "int arr[] = {5, 6, 3, 1, 2, 4};\n",
    "int size = sizeof(arr)/sizeof(arr[0]);\n",
    "execute(arr, size);"
   ]
  }
 ],
 "metadata": {
  "kernelspec": {
   "display_name": "C++17",
   "language": "C++17",
   "name": "xeus-cling-cpp17"
  },
  "language_info": {
   "codemirror_mode": "text/x-c++src",
   "file_extension": ".cpp",
   "mimetype": "text/x-c++src",
   "name": "c++",
   "version": "17"
  }
 },
 "nbformat": 4,
 "nbformat_minor": 2
}
